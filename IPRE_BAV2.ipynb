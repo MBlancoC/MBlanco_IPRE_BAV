{
  "nbformat": 4,
  "nbformat_minor": 0,
  "metadata": {
    "colab": {
      "provenance": []
    },
    "kernelspec": {
      "name": "python3",
      "display_name": "Python 3"
    },
    "language_info": {
      "name": "python"
    }
  },
  "cells": [
    {
      "cell_type": "code",
      "execution_count": 29,
      "metadata": {
        "id": "OhxmZiZavQhj"
      },
      "outputs": [],
      "source": [
        "import pandas as pd\n",
        "import numpy as np\n",
        "import matplotlib.pyplot as plt"
      ]
    },
    {
      "cell_type": "code",
      "source": [
        "data = pd.ExcelFile('PATIENT2.xlsx')\n",
        "data0 = pd.ExcelFile('CONTROL2.xlsx')\n",
        "\n",
        "AAo = pd.read_excel(data,\"AAo\")\n",
        "AAo0 = pd.read_excel(data0,\"AAo\")\n",
        "AArch = pd.read_excel(data,\"AArch\")\n",
        "AArch0 = pd.read_excel(data0,\"AArch\")\n",
        "\n",
        "AAo = AAo.drop([\"Diameter\"], axis=1)\n",
        "AAo = AAo.drop(AAo[AAo[\"Classification\"]==3].index)\n",
        "AAo0 = AAo0.drop([\"Diameter\"], axis=1)\n",
        "AAo0 = AAo0.drop(AAo0[AAo0[\"Classification\"]==3].index)\n",
        "\n",
        "AArch = AArch.drop([\"Diameter\"], axis=1)\n",
        "AArch = AArch.drop(AArch[AArch[\"Classification\"]==3].index)\n",
        "AArch0 = AArch0.drop([\"Diameter\"], axis=1)\n",
        "AArch0 = AArch0.drop(AArch0[AArch0[\"Classification\"]==3].index)\n",
        "\n",
        "AAo_and_AArch = pd.concat([AAo, AArch], axis = 0)\n",
        "Control_AAo_and_AArch = pd.concat([AAo0, AArch0], axis = 0)\n",
        "Base = AAo_and_AArch"
      ],
      "metadata": {
        "id": "ve9k62Rn0m5z"
      },
      "execution_count": 30,
      "outputs": []
    },
    {
      "cell_type": "code",
      "source": [
        "#Pacientes tipo 0\n",
        "Control_AAo_and_AArch = pd.concat([AAo0, AArch0], axis = 0)\n",
        "\n",
        "#Pacientes tipo 1\n",
        "PAT1 = AAo_and_AArch.drop(AAo_and_AArch[AAo_and_AArch[\"Classification\"]==2].index)\n",
        "\n",
        "#Pacientes tipo 2\n",
        "PAT2 = Base.drop(Base[Base[\"Classification\"]==1].index)\n"
      ],
      "metadata": {
        "id": "CkRwtnU2fOMf"
      },
      "execution_count": 31,
      "outputs": []
    },
    {
      "cell_type": "code",
      "source": [
        "PAT0 = Control_AAo_and_AArch.drop([\"Classification\"], axis=1)\n",
        "PAT1 = PAT1.drop([\"Classification\"], axis=1)\n",
        "PAT2 = PAT2.drop([\"Classification\"], axis=1)"
      ],
      "metadata": {
        "id": "WSDiTdt9nUkJ"
      },
      "execution_count": 32,
      "outputs": []
    }
  ]
}